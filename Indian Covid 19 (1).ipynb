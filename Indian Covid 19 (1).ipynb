{
 "cells": [
  {
   "cell_type": "code",
   "execution_count": 99,
   "metadata": {},
   "outputs": [],
   "source": [
    "import requests\n",
    "from bs4 import BeautifulSoup\n",
    "import pandas as pd\n",
    "import numpy as np\n"
   ]
  },
  {
   "cell_type": "code",
   "execution_count": 100,
   "metadata": {},
   "outputs": [],
   "source": [
    "url=\"https://www.mohfw.gov.in/\""
   ]
  },
  {
   "cell_type": "code",
   "execution_count": 101,
   "metadata": {},
   "outputs": [
    {
     "name": "stdout",
     "output_type": "stream",
     "text": [
      "<Response [200]>\n"
     ]
    }
   ],
   "source": [
    "response=requests.get(url)\n",
    "print(response)"
   ]
  },
  {
   "cell_type": "code",
   "execution_count": 102,
   "metadata": {},
   "outputs": [],
   "source": [
    "#created a wrapper\n",
    "\n",
    "soup=BeautifulSoup(response.content,\"html.parser\")"
   ]
  },
  {
   "cell_type": "code",
   "execution_count": 103,
   "metadata": {},
   "outputs": [
    {
     "data": {
      "text/plain": [
       "<title>MoHFW | Home</title>"
      ]
     },
     "execution_count": 103,
     "metadata": {},
     "output_type": "execute_result"
    }
   ],
   "source": [
    "soup.title"
   ]
  },
  {
   "cell_type": "code",
   "execution_count": 104,
   "metadata": {},
   "outputs": [],
   "source": [
    "tables=soup.find_all(\"table\")\n",
    "table0=tables[0]\n",
    "# table0\n",
    "# list_data=[]\n",
    "\n",
    "# data={\n",
    "#     \"State\":None,\n",
    "#     \"Total_confirmed_cases\":None,\n",
    "#     \"Cured_discharged_migrated\":None,\n",
    "#     \"Deaths\":None\n",
    "# }\n",
    "\n",
    "# rows=table0.find_all(\"tr\")[1:-3]\n",
    "\n",
    "# for row in rows:\n",
    "#     col=row.find_all(\"td\")\n",
    "#     data={\n",
    "#     \"State\":None,\n",
    "#     \"Total_confirmed_cases\":None,\n",
    "#     \"Cured_discharged_migrated\":None,\n",
    "#     \"Deaths\":None}\n",
    "    \n",
    "#     try:\n",
    "        \n",
    "#         data[\"State\"]=col[1].text.strip()\n",
    "#         data[\"Total_confirmed_cases\"]=int(col[2].text.strip())\n",
    "#         data[\"Cured_discharged_migrated\"]=int(col[3].text.strip())\n",
    "#         data[\"Deaths\"]=int(col[4].text.strip())\n",
    "#         list_data.append(data)\n",
    "        \n",
    "#     except:\n",
    "#         print(\"Blank\")\n",
    "# #print(list_data)\n",
    "# print(sorted(list_data,key=itemgetter('Total_confirmed_cases'),reverse=True))"
   ]
  },
  {
   "cell_type": "markdown",
   "metadata": {},
   "source": [
    "# Below 4 lists are made in order to take all values into consideration"
   ]
  },
  {
   "cell_type": "code",
   "execution_count": 105,
   "metadata": {},
   "outputs": [
    {
     "name": "stdout",
     "output_type": "stream",
     "text": [
      "\n",
      "\n",
      "\n",
      "\n",
      "\n",
      "\n",
      "['Andaman and Nicobar Islands', 'Andhra Pradesh', 'Arunachal Pradesh', 'Assam', 'Bihar', 'Chandigarh', 'Chhattisgarh', 'Dadar Nagar Haveli', 'Delhi', 'Goa', 'Gujarat', 'Haryana', 'Himachal Pradesh', 'Jammu and Kashmir', 'Jharkhand', 'Karnataka', 'Kerala', 'Ladakh', 'Madhya Pradesh', 'Maharashtra', 'Manipur', 'Meghalaya', 'Mizoram', 'Odisha', 'Puducherry', 'Punjab', 'Rajasthan', 'Tamil Nadu', 'Telengana', 'Tripura', 'Uttarakhand', 'Uttar Pradesh', 'West Bengal', '67152#']\n"
     ]
    }
   ],
   "source": [
    "state=[]\n",
    "total_confirmed_cases=[]\n",
    "cured_discharged_migrated=[]\n",
    "deaths=[]\n",
    "\n",
    "rows=table0.find_all(\"tr\")\n",
    "rows\n",
    "for row in rows:\n",
    "    col=row.find_all(\"td\")\n",
    "    try:\n",
    "        \n",
    "        state.append(col[1].text.strip())\n",
    "        total_confirmed_cases.append(int(col[2].text.strip()))\n",
    "        cured_discharged_migrated.append(int(col[3].text.strip()))\n",
    "        deaths.append(int(col[4].text.strip()))\n",
    "    except:\n",
    "        print(\"\")\n",
    "        \n",
    "print(state)\n"
   ]
  },
  {
   "cell_type": "markdown",
   "metadata": {},
   "source": [
    "# Converted all the lists into a single dataframs consisting of all the columns"
   ]
  },
  {
   "cell_type": "code",
   "execution_count": 106,
   "metadata": {},
   "outputs": [
    {
     "data": {
      "text/html": [
       "<div>\n",
       "<style scoped>\n",
       "    .dataframe tbody tr th:only-of-type {\n",
       "        vertical-align: middle;\n",
       "    }\n",
       "\n",
       "    .dataframe tbody tr th {\n",
       "        vertical-align: top;\n",
       "    }\n",
       "\n",
       "    .dataframe thead th {\n",
       "        text-align: right;\n",
       "    }\n",
       "</style>\n",
       "<table border=\"1\" class=\"dataframe\">\n",
       "  <thead>\n",
       "    <tr style=\"text-align: right;\">\n",
       "      <th></th>\n",
       "      <th>State</th>\n",
       "      <th>Total_confirmed_cases</th>\n",
       "      <th>Cured_Discharged_Migrated</th>\n",
       "      <th>Deaths</th>\n",
       "      <th>Active_cases</th>\n",
       "    </tr>\n",
       "  </thead>\n",
       "  <tbody>\n",
       "    <tr>\n",
       "      <th>0</th>\n",
       "      <td>Andaman and Nicobar Islands</td>\n",
       "      <td>33</td>\n",
       "      <td>33</td>\n",
       "      <td>0</td>\n",
       "      <td>0</td>\n",
       "    </tr>\n",
       "    <tr>\n",
       "      <th>1</th>\n",
       "      <td>Andhra Pradesh</td>\n",
       "      <td>1980</td>\n",
       "      <td>925</td>\n",
       "      <td>45</td>\n",
       "      <td>1010</td>\n",
       "    </tr>\n",
       "    <tr>\n",
       "      <th>2</th>\n",
       "      <td>Arunachal Pradesh</td>\n",
       "      <td>1</td>\n",
       "      <td>1</td>\n",
       "      <td>0</td>\n",
       "      <td>0</td>\n",
       "    </tr>\n",
       "    <tr>\n",
       "      <th>3</th>\n",
       "      <td>Assam</td>\n",
       "      <td>63</td>\n",
       "      <td>34</td>\n",
       "      <td>2</td>\n",
       "      <td>27</td>\n",
       "    </tr>\n",
       "    <tr>\n",
       "      <th>4</th>\n",
       "      <td>Bihar</td>\n",
       "      <td>696</td>\n",
       "      <td>365</td>\n",
       "      <td>6</td>\n",
       "      <td>325</td>\n",
       "    </tr>\n",
       "    <tr>\n",
       "      <th>5</th>\n",
       "      <td>Chandigarh</td>\n",
       "      <td>169</td>\n",
       "      <td>24</td>\n",
       "      <td>2</td>\n",
       "      <td>143</td>\n",
       "    </tr>\n",
       "    <tr>\n",
       "      <th>6</th>\n",
       "      <td>Chhattisgarh</td>\n",
       "      <td>59</td>\n",
       "      <td>49</td>\n",
       "      <td>0</td>\n",
       "      <td>10</td>\n",
       "    </tr>\n",
       "    <tr>\n",
       "      <th>7</th>\n",
       "      <td>Dadar Nagar Haveli</td>\n",
       "      <td>1</td>\n",
       "      <td>0</td>\n",
       "      <td>0</td>\n",
       "      <td>1</td>\n",
       "    </tr>\n",
       "    <tr>\n",
       "      <th>8</th>\n",
       "      <td>Delhi</td>\n",
       "      <td>6923</td>\n",
       "      <td>2069</td>\n",
       "      <td>73</td>\n",
       "      <td>4781</td>\n",
       "    </tr>\n",
       "    <tr>\n",
       "      <th>9</th>\n",
       "      <td>Goa</td>\n",
       "      <td>7</td>\n",
       "      <td>7</td>\n",
       "      <td>0</td>\n",
       "      <td>0</td>\n",
       "    </tr>\n",
       "    <tr>\n",
       "      <th>10</th>\n",
       "      <td>Gujarat</td>\n",
       "      <td>8194</td>\n",
       "      <td>2545</td>\n",
       "      <td>493</td>\n",
       "      <td>5156</td>\n",
       "    </tr>\n",
       "    <tr>\n",
       "      <th>11</th>\n",
       "      <td>Haryana</td>\n",
       "      <td>703</td>\n",
       "      <td>300</td>\n",
       "      <td>10</td>\n",
       "      <td>393</td>\n",
       "    </tr>\n",
       "    <tr>\n",
       "      <th>12</th>\n",
       "      <td>Himachal Pradesh</td>\n",
       "      <td>55</td>\n",
       "      <td>39</td>\n",
       "      <td>2</td>\n",
       "      <td>14</td>\n",
       "    </tr>\n",
       "    <tr>\n",
       "      <th>13</th>\n",
       "      <td>Jammu and Kashmir</td>\n",
       "      <td>861</td>\n",
       "      <td>383</td>\n",
       "      <td>9</td>\n",
       "      <td>469</td>\n",
       "    </tr>\n",
       "    <tr>\n",
       "      <th>14</th>\n",
       "      <td>Jharkhand</td>\n",
       "      <td>157</td>\n",
       "      <td>78</td>\n",
       "      <td>3</td>\n",
       "      <td>76</td>\n",
       "    </tr>\n",
       "    <tr>\n",
       "      <th>15</th>\n",
       "      <td>Karnataka</td>\n",
       "      <td>848</td>\n",
       "      <td>424</td>\n",
       "      <td>31</td>\n",
       "      <td>393</td>\n",
       "    </tr>\n",
       "    <tr>\n",
       "      <th>16</th>\n",
       "      <td>Kerala</td>\n",
       "      <td>512</td>\n",
       "      <td>489</td>\n",
       "      <td>4</td>\n",
       "      <td>19</td>\n",
       "    </tr>\n",
       "    <tr>\n",
       "      <th>17</th>\n",
       "      <td>Ladakh</td>\n",
       "      <td>42</td>\n",
       "      <td>21</td>\n",
       "      <td>0</td>\n",
       "      <td>21</td>\n",
       "    </tr>\n",
       "    <tr>\n",
       "      <th>18</th>\n",
       "      <td>Madhya Pradesh</td>\n",
       "      <td>3614</td>\n",
       "      <td>1676</td>\n",
       "      <td>215</td>\n",
       "      <td>1723</td>\n",
       "    </tr>\n",
       "    <tr>\n",
       "      <th>19</th>\n",
       "      <td>Maharashtra</td>\n",
       "      <td>22171</td>\n",
       "      <td>4199</td>\n",
       "      <td>832</td>\n",
       "      <td>17140</td>\n",
       "    </tr>\n",
       "    <tr>\n",
       "      <th>20</th>\n",
       "      <td>Manipur</td>\n",
       "      <td>2</td>\n",
       "      <td>2</td>\n",
       "      <td>0</td>\n",
       "      <td>0</td>\n",
       "    </tr>\n",
       "    <tr>\n",
       "      <th>21</th>\n",
       "      <td>Meghalaya</td>\n",
       "      <td>13</td>\n",
       "      <td>10</td>\n",
       "      <td>1</td>\n",
       "      <td>2</td>\n",
       "    </tr>\n",
       "    <tr>\n",
       "      <th>22</th>\n",
       "      <td>Mizoram</td>\n",
       "      <td>1</td>\n",
       "      <td>1</td>\n",
       "      <td>0</td>\n",
       "      <td>0</td>\n",
       "    </tr>\n",
       "    <tr>\n",
       "      <th>23</th>\n",
       "      <td>Odisha</td>\n",
       "      <td>377</td>\n",
       "      <td>68</td>\n",
       "      <td>3</td>\n",
       "      <td>306</td>\n",
       "    </tr>\n",
       "    <tr>\n",
       "      <th>24</th>\n",
       "      <td>Puducherry</td>\n",
       "      <td>9</td>\n",
       "      <td>6</td>\n",
       "      <td>0</td>\n",
       "      <td>3</td>\n",
       "    </tr>\n",
       "    <tr>\n",
       "      <th>25</th>\n",
       "      <td>Punjab</td>\n",
       "      <td>1823</td>\n",
       "      <td>166</td>\n",
       "      <td>31</td>\n",
       "      <td>1626</td>\n",
       "    </tr>\n",
       "    <tr>\n",
       "      <th>26</th>\n",
       "      <td>Rajasthan</td>\n",
       "      <td>3814</td>\n",
       "      <td>2176</td>\n",
       "      <td>107</td>\n",
       "      <td>1531</td>\n",
       "    </tr>\n",
       "    <tr>\n",
       "      <th>27</th>\n",
       "      <td>Tamil Nadu</td>\n",
       "      <td>7204</td>\n",
       "      <td>1959</td>\n",
       "      <td>47</td>\n",
       "      <td>5198</td>\n",
       "    </tr>\n",
       "    <tr>\n",
       "      <th>28</th>\n",
       "      <td>Telengana</td>\n",
       "      <td>1196</td>\n",
       "      <td>750</td>\n",
       "      <td>30</td>\n",
       "      <td>416</td>\n",
       "    </tr>\n",
       "    <tr>\n",
       "      <th>29</th>\n",
       "      <td>Tripura</td>\n",
       "      <td>150</td>\n",
       "      <td>2</td>\n",
       "      <td>0</td>\n",
       "      <td>148</td>\n",
       "    </tr>\n",
       "    <tr>\n",
       "      <th>30</th>\n",
       "      <td>Uttarakhand</td>\n",
       "      <td>68</td>\n",
       "      <td>46</td>\n",
       "      <td>1</td>\n",
       "      <td>21</td>\n",
       "    </tr>\n",
       "    <tr>\n",
       "      <th>31</th>\n",
       "      <td>Uttar Pradesh</td>\n",
       "      <td>3467</td>\n",
       "      <td>1653</td>\n",
       "      <td>74</td>\n",
       "      <td>1740</td>\n",
       "    </tr>\n",
       "    <tr>\n",
       "      <th>32</th>\n",
       "      <td>West Bengal</td>\n",
       "      <td>1939</td>\n",
       "      <td>417</td>\n",
       "      <td>185</td>\n",
       "      <td>1337</td>\n",
       "    </tr>\n",
       "  </tbody>\n",
       "</table>\n",
       "</div>"
      ],
      "text/plain": [
       "                          State  Total_confirmed_cases  \\\n",
       "0   Andaman and Nicobar Islands                     33   \n",
       "1                Andhra Pradesh                   1980   \n",
       "2             Arunachal Pradesh                      1   \n",
       "3                         Assam                     63   \n",
       "4                         Bihar                    696   \n",
       "5                    Chandigarh                    169   \n",
       "6                  Chhattisgarh                     59   \n",
       "7            Dadar Nagar Haveli                      1   \n",
       "8                         Delhi                   6923   \n",
       "9                           Goa                      7   \n",
       "10                      Gujarat                   8194   \n",
       "11                      Haryana                    703   \n",
       "12             Himachal Pradesh                     55   \n",
       "13            Jammu and Kashmir                    861   \n",
       "14                    Jharkhand                    157   \n",
       "15                    Karnataka                    848   \n",
       "16                       Kerala                    512   \n",
       "17                       Ladakh                     42   \n",
       "18               Madhya Pradesh                   3614   \n",
       "19                  Maharashtra                  22171   \n",
       "20                      Manipur                      2   \n",
       "21                    Meghalaya                     13   \n",
       "22                      Mizoram                      1   \n",
       "23                       Odisha                    377   \n",
       "24                   Puducherry                      9   \n",
       "25                       Punjab                   1823   \n",
       "26                    Rajasthan                   3814   \n",
       "27                   Tamil Nadu                   7204   \n",
       "28                    Telengana                   1196   \n",
       "29                      Tripura                    150   \n",
       "30                  Uttarakhand                     68   \n",
       "31                Uttar Pradesh                   3467   \n",
       "32                  West Bengal                   1939   \n",
       "\n",
       "    Cured_Discharged_Migrated  Deaths  Active_cases  \n",
       "0                          33       0             0  \n",
       "1                         925      45          1010  \n",
       "2                           1       0             0  \n",
       "3                          34       2            27  \n",
       "4                         365       6           325  \n",
       "5                          24       2           143  \n",
       "6                          49       0            10  \n",
       "7                           0       0             1  \n",
       "8                        2069      73          4781  \n",
       "9                           7       0             0  \n",
       "10                       2545     493          5156  \n",
       "11                        300      10           393  \n",
       "12                         39       2            14  \n",
       "13                        383       9           469  \n",
       "14                         78       3            76  \n",
       "15                        424      31           393  \n",
       "16                        489       4            19  \n",
       "17                         21       0            21  \n",
       "18                       1676     215          1723  \n",
       "19                       4199     832         17140  \n",
       "20                          2       0             0  \n",
       "21                         10       1             2  \n",
       "22                          1       0             0  \n",
       "23                         68       3           306  \n",
       "24                          6       0             3  \n",
       "25                        166      31          1626  \n",
       "26                       2176     107          1531  \n",
       "27                       1959      47          5198  \n",
       "28                        750      30           416  \n",
       "29                          2       0           148  \n",
       "30                         46       1            21  \n",
       "31                       1653      74          1740  \n",
       "32                        417     185          1337  "
      ]
     },
     "execution_count": 106,
     "metadata": {},
     "output_type": "execute_result"
    }
   ],
   "source": [
    "df=pd.DataFrame(list(zip(state,total_confirmed_cases,cured_discharged_migrated,deaths)),columns=[\"State\",\n",
    "\"Total_confirmed_cases\",\n",
    "\"Cured_Discharged_Migrated\",\n",
    "\"Deaths\"])\n",
    "\n",
    "df[\"Active_cases\"]=df[\"Total_confirmed_cases\"]-df[\"Cured_Discharged_Migrated\"]-df[\"Deaths\"]\n",
    "\n",
    "df"
   ]
  },
  {
   "cell_type": "markdown",
   "metadata": {},
   "source": [
    "# Sorted the dataframe by Total Confirmed Cases. Also sorted by the number of active cases so that we get to know the Green Zone States. Displaying the green zone states might give a clear picture"
   ]
  },
  {
   "cell_type": "code",
   "execution_count": 129,
   "metadata": {},
   "outputs": [
    {
     "data": {
      "text/html": [
       "<div>\n",
       "<style scoped>\n",
       "    .dataframe tbody tr th:only-of-type {\n",
       "        vertical-align: middle;\n",
       "    }\n",
       "\n",
       "    .dataframe tbody tr th {\n",
       "        vertical-align: top;\n",
       "    }\n",
       "\n",
       "    .dataframe thead th {\n",
       "        text-align: right;\n",
       "    }\n",
       "</style>\n",
       "<table border=\"1\" class=\"dataframe\">\n",
       "  <thead>\n",
       "    <tr style=\"text-align: right;\">\n",
       "      <th></th>\n",
       "      <th>State</th>\n",
       "      <th>Total_confirmed_cases</th>\n",
       "      <th>Cured_Discharged_Migrated</th>\n",
       "      <th>Deaths</th>\n",
       "      <th>Active_cases</th>\n",
       "    </tr>\n",
       "  </thead>\n",
       "  <tbody>\n",
       "    <tr>\n",
       "      <th>0</th>\n",
       "      <td>Andaman and Nicobar Islands</td>\n",
       "      <td>33</td>\n",
       "      <td>33</td>\n",
       "      <td>0</td>\n",
       "      <td>0</td>\n",
       "    </tr>\n",
       "    <tr>\n",
       "      <th>2</th>\n",
       "      <td>Arunachal Pradesh</td>\n",
       "      <td>1</td>\n",
       "      <td>1</td>\n",
       "      <td>0</td>\n",
       "      <td>0</td>\n",
       "    </tr>\n",
       "    <tr>\n",
       "      <th>22</th>\n",
       "      <td>Mizoram</td>\n",
       "      <td>1</td>\n",
       "      <td>1</td>\n",
       "      <td>0</td>\n",
       "      <td>0</td>\n",
       "    </tr>\n",
       "    <tr>\n",
       "      <th>20</th>\n",
       "      <td>Manipur</td>\n",
       "      <td>2</td>\n",
       "      <td>2</td>\n",
       "      <td>0</td>\n",
       "      <td>0</td>\n",
       "    </tr>\n",
       "    <tr>\n",
       "      <th>9</th>\n",
       "      <td>Goa</td>\n",
       "      <td>7</td>\n",
       "      <td>7</td>\n",
       "      <td>0</td>\n",
       "      <td>0</td>\n",
       "    </tr>\n",
       "  </tbody>\n",
       "</table>\n",
       "</div>"
      ],
      "text/plain": [
       "                          State  Total_confirmed_cases  \\\n",
       "0   Andaman and Nicobar Islands                     33   \n",
       "2             Arunachal Pradesh                      1   \n",
       "22                      Mizoram                      1   \n",
       "20                      Manipur                      2   \n",
       "9                           Goa                      7   \n",
       "\n",
       "    Cured_Discharged_Migrated  Deaths  Active_cases  \n",
       "0                          33       0             0  \n",
       "2                           1       0             0  \n",
       "22                          1       0             0  \n",
       "20                          2       0             0  \n",
       "9                           7       0             0  "
      ]
     },
     "execution_count": 129,
     "metadata": {},
     "output_type": "execute_result"
    }
   ],
   "source": [
    "\n",
    "from operator import itemgetter\n",
    "df2=df.sort_values(\"Total_confirmed_cases\",ascending=False)\n",
    "#lt.rcParams['figure.figsize']=(40,25)\n",
    "df3=df.sort_values(\"Active_cases\",ascending=True)\n",
    "\n",
    "No_cases_states=df3.loc[df3[\"Active_cases\"]==0]\n",
    "No_cases_states"
   ]
  },
  {
   "cell_type": "markdown",
   "metadata": {},
   "source": [
    "# Plotted a multiple bar plot"
   ]
  },
  {
   "cell_type": "code",
   "execution_count": 124,
   "metadata": {},
   "outputs": [
    {
     "data": {
      "text/plain": [
       "<matplotlib.legend.Legend at 0x1b98dc265f8>"
      ]
     },
     "execution_count": 124,
     "metadata": {},
     "output_type": "execute_result"
    },
    {
     "data": {
      "image/png": "[encoded data removed]",
      "text/plain": [
       "<Figure size 2880x1800 with 1 Axes>"
      ]
     },
     "metadata": {
      "needs_background": "light"
     },
     "output_type": "display_data"
    }
   ],
   "source": [
    "# libraries\n",
    "import numpy as np\n",
    "import matplotlib.pyplot as plt\n",
    "\n",
    "# set width of bar\n",
    "barWidth = 0.3\n",
    " \n",
    "# set height of bar\n",
    "bars1 = df2[\"Total_confirmed_cases\"].to_numpy()\n",
    "bars2 =  df2[\"Cured_Discharged_Migrated\"].to_numpy()\n",
    "bars3 = df2[\"Deaths\"].to_numpy()\n",
    " \n",
    "# Set position of bar on X axis\n",
    "r1 = np.arange(len(bars1))\n",
    "r2 = [x + barWidth for x in r1]\n",
    "r3 = [x + barWidth for x in r2]\n",
    " \n",
    "plt.figure(figsize=(40,25))\n",
    "# Make the plot\n",
    "plt.bar(r1, bars1, color='blue', width=1.25*barWidth, edgecolor='white', label='Total confirmed cases')\n",
    "plt.bar(r2, bars2, color='#2d7f5e', width=1.25*barWidth, edgecolor='white', label='Cured/Discharched/Migrated')\n",
    "plt.bar(r3, bars3, color='red', width=1.25*barWidth, edgecolor='white', label='Deaths')\n",
    " \n",
    "# Add xticks on the middle of the group bars\n",
    "plt.ylabel('Number of Cases', fontweight='bold',fontsize=\"30\",rotation=\"vertical\")\n",
    "plt.xlabel('States', fontweight='bold',fontsize=\"30\")\n",
    "plt.xticks([r + barWidth for r in range(len(bars1))], df2[\"State\"],rotation=\"vertical\",fontsize=\"30\")\n",
    "plt.yticks(fontsize=\"20\")\n",
    "\n",
    "\n",
    "# Create legend & Show graphic\n",
    "plt.legend(fontsize=\"30\")\n",
    "#plt.show()\n"
   ]
  },
  {
   "cell_type": "markdown",
   "metadata": {},
   "source": [
    "# A pie plot based on total confirmed cases"
   ]
  },
  {
   "cell_type": "code",
   "execution_count": 125,
   "metadata": {
    "scrolled": true
   },
   "outputs": [
    {
     "data": {
      "image/png": "[encoded data removed]",
      "text/plain": [
       "<Figure size 1080x1080 with 1 Axes>"
      ]
     },
     "metadata": {},
     "output_type": "display_data"
    }
   ],
   "source": [
    "df3=df2.iloc[:15]\n",
    "df3\n",
    "plt.figure(figsize=(15,15))\n",
    "labels=df3[\"State\"]\n",
    "plt.figsize=(2,5)\n",
    "sizes=df3[\"Total_confirmed_cases\"]\n",
    "plt.pie(sizes,labels=labels,autopct='%1.1f%%',shadow=True,startangle=140)\n",
    "\n",
    "plt.axis=('equal')\n",
    "#plt.show()"
   ]
  },
  {
   "cell_type": "markdown",
   "metadata": {},
   "source": [
    "# In plotly, plotted a multi bar plot so that easy interactive visualizations can be done."
   ]
  },
  {
   "cell_type": "code",
   "execution_count": 119,
   "metadata": {},
   "outputs": [
    {
     "data": {
      "application/vnd.plotly.v1+json": {
       "config": {
        "plotlyServerURL": "https://plot.ly"
       },
       "data": [
        {
         "marker": {
          "color": "indianred"
         },
         "name": "Total confirmed Cases",
         "type": "bar",
         "x": [
          "Maharashtra",
          "Gujarat",
          "Tamil Nadu",
          "Delhi",
          "Rajasthan",
          "Madhya Pradesh",
          "Uttar Pradesh",
          "Andhra Pradesh",
          "West Bengal",
          "Punjab",
          "Telengana",
          "Jammu and Kashmir",
          "Karnataka",
          "Haryana",
          "Bihar"
         ],
         "y": [
          22171,
          8194,
          7204,
          6923,
          3814,
          3614,
          3467,
          1980,
          1939,
          1823,
          1196,
          861,
          848,
          703,
          696,
          512,
          377,
          169,
          157,
          150,
          68,
          63,
          59,
          55,
          42,
          33,
          13,
          9,
          7,
          2,
          1,
          1,
          1
         ]
        },
        {
         "marker": {
          "color": "lightsalmon"
         },
         "name": "Cured/Discharged",
         "type": "bar",
         "x": [
          "Maharashtra",
          "Gujarat",
          "Tamil Nadu",
          "Delhi",
          "Rajasthan",
          "Madhya Pradesh",
          "Uttar Pradesh",
          "Andhra Pradesh",
          "West Bengal",
          "Punjab",
          "Telengana",
          "Jammu and Kashmir",
          "Karnataka",
          "Haryana",
          "Bihar"
         ],
         "y": [
          4199,
          2545,
          1959,
          2069,
          2176,
          1676,
          1653,
          925,
          417,
          166,
          750,
          383,
          424,
          300,
          365,
          489,
          68,
          24,
          78,
          2,
          46,
          34,
          49,
          39,
          21,
          33,
          10,
          6,
          7,
          2,
          0,
          1,
          1
         ]
        },
        {
         "marker": {
          "color": "red"
         },
         "name": "Deaths",
         "type": "bar",
         "x": [
          "Maharashtra",
          "Gujarat",
          "Tamil Nadu",
          "Delhi",
          "Rajasthan",
          "Madhya Pradesh",
          "Uttar Pradesh",
          "Andhra Pradesh",
          "West Bengal",
          "Punjab",
          "Telengana",
          "Jammu and Kashmir",
          "Karnataka",
          "Haryana",
          "Bihar"
         ],
         "y": [
          832,
          493,
          47,
          73,
          107,
          215,
          74,
          45,
          185,
          31,
          30,
          9,
          31,
          10,
          6,
          4,
          3,
          2,
          3,
          0,
          1,
          2,
          0,
          2,
          0,
          0,
          1,
          0,
          0,
          0,
          0,
          0,
          0
         ]
        }
       ],
       "layout": {
        "barmode": "group",
        "template": {
         "data": {
          "bar": [
           {
            "error_x": {
             "color": "#2a3f5f"
            },
            "error_y": {
             "color": "#2a3f5f"
            },
            "marker": {
             "line": {
              "color": "#E5ECF6",
              "width": 0.5
             }
            },
            "type": "bar"
           }
          ],
          "barpolar": [
           {
            "marker": {
             "line": {
              "color": "#E5ECF6",
              "width": 0.5
             }
            },
            "type": "barpolar"
           }
          ],
          "carpet": [
           {
            "aaxis": {
             "endlinecolor": "#2a3f5f",
             "gridcolor": "white",
             "linecolor": "white",
             "minorgridcolor": "white",
             "startlinecolor": "#2a3f5f"
            },
            "baxis": {
             "endlinecolor": "#2a3f5f",
             "gridcolor": "white",
             "linecolor": "white",
             "minorgridcolor": "white",
             "startlinecolor": "#2a3f5f"
            },
            "type": "carpet"
           }
          ],
          "choropleth": [
           {
            "colorbar": {
             "outlinewidth": 0,
             "ticks": ""
            },
            "type": "choropleth"
           }
          ],
          "contour": [
           {
            "colorbar": {
             "outlinewidth": 0,
             "ticks": ""
            },
            "colorscale": [
             [
              0,
              "#0d0887"
             ],
             [
              0.1111111111111111,
              "#46039f"
             ],
             [
              0.2222222222222222,
              "#7201a8"
             ],
             [
              0.3333333333333333,
              "#9c179e"
             ],
             [
              0.4444444444444444,
              "#bd3786"
             ],
             [
              0.5555555555555556,
              "#d8576b"
             ],
             [
              0.6666666666666666,
              "#ed7953"
             ],
             [
              0.7777777777777778,
              "#fb9f3a"
             ],
             [
              0.8888888888888888,
              "#fdca26"
             ],
             [
              1,
              "#f0f921"
             ]
            ],
            "type": "contour"
           }
          ],
          "contourcarpet": [
           {
            "colorbar": {
             "outlinewidth": 0,
             "ticks": ""
            },
            "type": "contourcarpet"
           }
          ],
          "heatmap": [
           {
            "colorbar": {
             "outlinewidth": 0,
             "ticks": ""
            },
            "colorscale": [
             [
              0,
              "#0d0887"
             ],
             [
              0.1111111111111111,
              "#46039f"
             ],
             [
              0.2222222222222222,
              "#7201a8"
             ],
             [
              0.3333333333333333,
              "#9c179e"
             ],
             [
              0.4444444444444444,
              "#bd3786"
             ],
             [
              0.5555555555555556,
              "#d8576b"
             ],
             [
              0.6666666666666666,
              "#ed7953"
             ],
             [
              0.7777777777777778,
              "#fb9f3a"
             ],
             [
              0.8888888888888888,
              "#fdca26"
             ],
             [
              1,
              "#f0f921"
             ]
            ],
            "type": "heatmap"
           }
          ],
          "heatmapgl": [
           {
            "colorbar": {
             "outlinewidth": 0,
             "ticks": ""
            },
            "colorscale": [
             [
              0,
              "#0d0887"
             ],
             [
              0.1111111111111111,
              "#46039f"
             ],
             [
              0.2222222222222222,
              "#7201a8"
             ],
             [
              0.3333333333333333,
              "#9c179e"
             ],
             [
              0.4444444444444444,
              "#bd3786"
             ],
             [
              0.5555555555555556,
              "#d8576b"
             ],
             [
              0.6666666666666666,
              "#ed7953"
             ],
             [
              0.7777777777777778,
              "#fb9f3a"
             ],
             [
              0.8888888888888888,
              "#fdca26"
             ],
             [
              1,
              "#f0f921"
             ]
            ],
            "type": "heatmapgl"
           }
          ],
          "histogram": [
           {
            "marker": {
             "colorbar": {
              "outlinewidth": 0,
              "ticks": ""
             }
            },
            "type": "histogram"
           }
          ],
          "histogram2d": [
           {
            "colorbar": {
             "outlinewidth": 0,
             "ticks": ""
            },
            "colorscale": [
             [
              0,
              "#0d0887"
             ],
             [
              0.1111111111111111,
              "#46039f"
             ],
             [
              0.2222222222222222,
              "#7201a8"
             ],
             [
              0.3333333333333333,
              "#9c179e"
             ],
             [
              0.4444444444444444,
              "#bd3786"
             ],
             [
              0.5555555555555556,
              "#d8576b"
             ],
             [
              0.6666666666666666,
              "#ed7953"
             ],
             [
              0.7777777777777778,
              "#fb9f3a"
             ],
             [
              0.8888888888888888,
              "#fdca26"
             ],
             [
              1,
              "#f0f921"
             ]
            ],
            "type": "histogram2d"
           }
          ],
          "histogram2dcontour": [
           {
            "colorbar": {
             "outlinewidth": 0,
             "ticks": ""
            },
            "colorscale": [
             [
              0,
              "#0d0887"
             ],
             [
              0.1111111111111111,
              "#46039f"
             ],
             [
              0.2222222222222222,
              "#7201a8"
             ],
             [
              0.3333333333333333,
              "#9c179e"
             ],
             [
              0.4444444444444444,
              "#bd3786"
             ],
             [
              0.5555555555555556,
              "#d8576b"
             ],
             [
              0.6666666666666666,
              "#ed7953"
             ],
             [
              0.7777777777777778,
              "#fb9f3a"
             ],
             [
              0.8888888888888888,
              "#fdca26"
             ],
             [
              1,
              "#f0f921"
             ]
            ],
            "type": "histogram2dcontour"
           }
          ],
          "mesh3d": [
           {
            "colorbar": {
             "outlinewidth": 0,
             "ticks": ""
            },
            "type": "mesh3d"
           }
          ],
          "parcoords": [
           {
            "line": {
             "colorbar": {
              "outlinewidth": 0,
              "ticks": ""
             }
            },
            "type": "parcoords"
           }
          ],
          "pie": [
           {
            "automargin": true,
            "type": "pie"
           }
          ],
          "scatter": [
           {
            "marker": {
             "colorbar": {
              "outlinewidth": 0,
              "ticks": ""
             }
            },
            "type": "scatter"
           }
          ],
          "scatter3d": [
           {
            "line": {
             "colorbar": {
              "outlinewidth": 0,
              "ticks": ""
             }
            },
            "marker": {
             "colorbar": {
              "outlinewidth": 0,
              "ticks": ""
             }
            },
            "type": "scatter3d"
           }
          ],
          "scattercarpet": [
           {
            "marker": {
             "colorbar": {
              "outlinewidth": 0,
              "ticks": ""
             }
            },
            "type": "scattercarpet"
           }
          ],
          "scattergeo": [
           {
            "marker": {
             "colorbar": {
              "outlinewidth": 0,
              "ticks": ""
             }
            },
            "type": "scattergeo"
           }
          ],
          "scattergl": [
           {
            "marker": {
             "colorbar": {
              "outlinewidth": 0,
              "ticks": ""
             }
            },
            "type": "scattergl"
           }
          ],
          "scattermapbox": [
           {
            "marker": {
             "colorbar": {
              "outlinewidth": 0,
              "ticks": ""
             }
            },
            "type": "scattermapbox"
           }
          ],
          "scatterpolar": [
           {
            "marker": {
             "colorbar": {
              "outlinewidth": 0,
              "ticks": ""
             }
            },
            "type": "scatterpolar"
           }
          ],
          "scatterpolargl": [
           {
            "marker": {
             "colorbar": {
              "outlinewidth": 0,
              "ticks": ""
             }
            },
            "type": "scatterpolargl"
           }
          ],
          "scatterternary": [
           {
            "marker": {
             "colorbar": {
              "outlinewidth": 0,
              "ticks": ""
             }
            },
            "type": "scatterternary"
           }
          ],
          "surface": [
           {
            "colorbar": {
             "outlinewidth": 0,
             "ticks": ""
            },
            "colorscale": [
             [
              0,
              "#0d0887"
             ],
             [
              0.1111111111111111,
              "#46039f"
             ],
             [
              0.2222222222222222,
              "#7201a8"
             ],
             [
              0.3333333333333333,
              "#9c179e"
             ],
             [
              0.4444444444444444,
              "#bd3786"
             ],
             [
              0.5555555555555556,
              "#d8576b"
             ],
             [
              0.6666666666666666,
              "#ed7953"
             ],
             [
              0.7777777777777778,
              "#fb9f3a"
             ],
             [
              0.8888888888888888,
              "#fdca26"
             ],
             [
              1,
              "#f0f921"
             ]
            ],
            "type": "surface"
           }
          ],
          "table": [
           {
            "cells": {
             "fill": {
              "color": "#EBF0F8"
             },
             "line": {
              "color": "white"
             }
            },
            "header": {
             "fill": {
              "color": "#C8D4E3"
             },
             "line": {
              "color": "white"
             }
            },
            "type": "table"
           }
          ]
         },
         "layout": {
          "annotationdefaults": {
           "arrowcolor": "#2a3f5f",
           "arrowhead": 0,
           "arrowwidth": 1
          },
          "coloraxis": {
           "colorbar": {
            "outlinewidth": 0,
            "ticks": ""
           }
          },
          "colorscale": {
           "diverging": [
            [
             0,
             "#8e0152"
            ],
            [
             0.1,
             "#c51b7d"
            ],
            [
             0.2,
             "#de77ae"
            ],
            [
             0.3,
             "#f1b6da"
            ],
            [
             0.4,
             "#fde0ef"
            ],
            [
             0.5,
             "#f7f7f7"
            ],
            [
             0.6,
             "#e6f5d0"
            ],
            [
             0.7,
             "#b8e186"
            ],
            [
             0.8,
             "#7fbc41"
            ],
            [
             0.9,
             "#4d9221"
            ],
            [
             1,
             "#276419"
            ]
           ],
           "sequential": [
            [
             0,
             "#0d0887"
            ],
            [
             0.1111111111111111,
             "#46039f"
            ],
            [
             0.2222222222222222,
             "#7201a8"
            ],
            [
             0.3333333333333333,
             "#9c179e"
            ],
            [
             0.4444444444444444,
             "#bd3786"
            ],
            [
             0.5555555555555556,
             "#d8576b"
            ],
            [
             0.6666666666666666,
             "#ed7953"
            ],
            [
             0.7777777777777778,
             "#fb9f3a"
            ],
            [
             0.8888888888888888,
             "#fdca26"
            ],
            [
             1,
             "#f0f921"
            ]
           ],
           "sequentialminus": [
            [
             0,
             "#0d0887"
            ],
            [
             0.1111111111111111,
             "#46039f"
            ],
            [
             0.2222222222222222,
             "#7201a8"
            ],
            [
             0.3333333333333333,
             "#9c179e"
            ],
            [
             0.4444444444444444,
             "#bd3786"
            ],
            [
             0.5555555555555556,
             "#d8576b"
            ],
            [
             0.6666666666666666,
             "#ed7953"
            ],
            [
             0.7777777777777778,
             "#fb9f3a"
            ],
            [
             0.8888888888888888,
             "#fdca26"
            ],
            [
             1,
             "#f0f921"
            ]
           ]
          },
          "colorway": [
           "#636efa",
           "#EF553B",
           "#00cc96",
           "#ab63fa",
           "#FFA15A",
           "#19d3f3",
           "#FF6692",
           "#B6E880",
           "#FF97FF",
           "#FECB52"
          ],
          "font": {
           "color": "#2a3f5f"
          },
          "geo": {
           "bgcolor": "white",
           "lakecolor": "white",
           "landcolor": "#E5ECF6",
           "showlakes": true,
           "showland": true,
           "subunitcolor": "white"
          },
          "hoverlabel": {
           "align": "left"
          },
          "hovermode": "closest",
          "mapbox": {
           "style": "light"
          },
          "paper_bgcolor": "white",
          "plot_bgcolor": "#E5ECF6",
          "polar": {
           "angularaxis": {
            "gridcolor": "white",
            "linecolor": "white",
            "ticks": ""
           },
           "bgcolor": "#E5ECF6",
           "radialaxis": {
            "gridcolor": "white",
            "linecolor": "white",
            "ticks": ""
           }
          },
          "scene": {
           "xaxis": {
            "backgroundcolor": "#E5ECF6",
            "gridcolor": "white",
            "gridwidth": 2,
            "linecolor": "white",
            "showbackground": true,
            "ticks": "",
            "zerolinecolor": "white"
           },
           "yaxis": {
            "backgroundcolor": "#E5ECF6",
            "gridcolor": "white",
            "gridwidth": 2,
            "linecolor": "white",
            "showbackground": true,
            "ticks": "",
            "zerolinecolor": "white"
           },
           "zaxis": {
            "backgroundcolor": "#E5ECF6",
            "gridcolor": "white",
            "gridwidth": 2,
            "linecolor": "white",
            "showbackground": true,
            "ticks": "",
            "zerolinecolor": "white"
           }
          },
          "shapedefaults": {
           "line": {
            "color": "#2a3f5f"
           }
          },
          "ternary": {
           "aaxis": {
            "gridcolor": "white",
            "linecolor": "white",
            "ticks": ""
           },
           "baxis": {
            "gridcolor": "white",
            "linecolor": "white",
            "ticks": ""
           },
           "bgcolor": "#E5ECF6",
           "caxis": {
            "gridcolor": "white",
            "linecolor": "white",
            "ticks": ""
           }
          },
          "title": {
           "x": 0.05
          },
          "xaxis": {
           "automargin": true,
           "gridcolor": "white",
           "linecolor": "white",
           "ticks": "",
           "title": {
            "standoff": 15
           },
           "zerolinecolor": "white",
           "zerolinewidth": 2
          },
          "yaxis": {
           "automargin": true,
           "gridcolor": "white",
           "linecolor": "white",
           "ticks": "",
           "title": {
            "standoff": 15
           },
           "zerolinecolor": "white",
           "zerolinewidth": 2
          }
         }
        }
       }
      },
      "text/html": [
       "<div>\n",
       "        \n",
       "        \n",
       "            <div id=\"791a52cf-3bd8-4c56-a5a8-8221be2c3c79\" class=\"plotly-graph-div\" style=\"height:525px; width:100%;\"></div>\n",
       "            <script type=\"text/javascript\">\n",
       "                require([\"plotly\"], function(Plotly) {\n",
       "                    window.PLOTLYENV=window.PLOTLYENV || {};\n",
       "                    \n",
       "                if (document.getElementById(\"791a52cf-3bd8-4c56-a5a8-8221be2c3c79\")) {\n",
       "                    Plotly.newPlot(\n",
       "                        '791a52cf-3bd8-4c56-a5a8-8221be2c3c79',\n",
       "                        [{\"marker\": {\"color\": \"indianred\"}, \"name\": \"Total confirmed Cases\", \"type\": \"bar\", \"x\": [\"Maharashtra\", \"Gujarat\", \"Tamil Nadu\", \"Delhi\", \"Rajasthan\", \"Madhya Pradesh\", \"Uttar Pradesh\", \"Andhra Pradesh\", \"West Bengal\", \"Punjab\", \"Telengana\", \"Jammu and Kashmir\", \"Karnataka\", \"Haryana\", \"Bihar\"], \"y\": [22171, 8194, 7204, 6923, 3814, 3614, 3467, 1980, 1939, 1823, 1196, 861, 848, 703, 696, 512, 377, 169, 157, 150, 68, 63, 59, 55, 42, 33, 13, 9, 7, 2, 1, 1, 1]}, {\"marker\": {\"color\": \"lightsalmon\"}, \"name\": \"Cured/Discharged\", \"type\": \"bar\", \"x\": [\"Maharashtra\", \"Gujarat\", \"Tamil Nadu\", \"Delhi\", \"Rajasthan\", \"Madhya Pradesh\", \"Uttar Pradesh\", \"Andhra Pradesh\", \"West Bengal\", \"Punjab\", \"Telengana\", \"Jammu and Kashmir\", \"Karnataka\", \"Haryana\", \"Bihar\"], \"y\": [4199, 2545, 1959, 2069, 2176, 1676, 1653, 925, 417, 166, 750, 383, 424, 300, 365, 489, 68, 24, 78, 2, 46, 34, 49, 39, 21, 33, 10, 6, 7, 2, 0, 1, 1]}, {\"marker\": {\"color\": \"red\"}, \"name\": \"Deaths\", \"type\": \"bar\", \"x\": [\"Maharashtra\", \"Gujarat\", \"Tamil Nadu\", \"Delhi\", \"Rajasthan\", \"Madhya Pradesh\", \"Uttar Pradesh\", \"Andhra Pradesh\", \"West Bengal\", \"Punjab\", \"Telengana\", \"Jammu and Kashmir\", \"Karnataka\", \"Haryana\", \"Bihar\"], \"y\": [832, 493, 47, 73, 107, 215, 74, 45, 185, 31, 30, 9, 31, 10, 6, 4, 3, 2, 3, 0, 1, 2, 0, 2, 0, 0, 1, 0, 0, 0, 0, 0, 0]}],\n",
       "                        {\"barmode\": \"group\", \"template\": {\"data\": {\"bar\": [{\"error_x\": {\"color\": \"#2a3f5f\"}, \"error_y\": {\"color\": \"#2a3f5f\"}, \"marker\": {\"line\": {\"color\": \"#E5ECF6\", \"width\": 0.5}}, \"type\": \"bar\"}], \"barpolar\": [{\"marker\": {\"line\": {\"color\": \"#E5ECF6\", \"width\": 0.5}}, \"type\": \"barpolar\"}], \"carpet\": [{\"aaxis\": {\"endlinecolor\": \"#2a3f5f\", \"gridcolor\": \"white\", \"linecolor\": \"white\", \"minorgridcolor\": \"white\", \"startlinecolor\": \"#2a3f5f\"}, \"baxis\": {\"endlinecolor\": \"#2a3f5f\", \"gridcolor\": \"white\", \"linecolor\": \"white\", \"minorgridcolor\": \"white\", \"startlinecolor\": \"#2a3f5f\"}, \"type\": \"carpet\"}], \"choropleth\": [{\"colorbar\": {\"outlinewidth\": 0, \"ticks\": \"\"}, \"type\": \"choropleth\"}], \"contour\": [{\"colorbar\": {\"outlinewidth\": 0, \"ticks\": \"\"}, \"colorscale\": [[0.0, \"#0d0887\"], [0.1111111111111111, \"#46039f\"], [0.2222222222222222, \"#7201a8\"], [0.3333333333333333, \"#9c179e\"], [0.4444444444444444, \"#bd3786\"], [0.5555555555555556, \"#d8576b\"], [0.6666666666666666, \"#ed7953\"], [0.7777777777777778, \"#fb9f3a\"], [0.8888888888888888, \"#fdca26\"], [1.0, \"#f0f921\"]], \"type\": \"contour\"}], \"contourcarpet\": [{\"colorbar\": {\"outlinewidth\": 0, \"ticks\": \"\"}, \"type\": \"contourcarpet\"}], \"heatmap\": [{\"colorbar\": {\"outlinewidth\": 0, \"ticks\": \"\"}, \"colorscale\": [[0.0, \"#0d0887\"], [0.1111111111111111, \"#46039f\"], [0.2222222222222222, \"#7201a8\"], [0.3333333333333333, \"#9c179e\"], [0.4444444444444444, \"#bd3786\"], [0.5555555555555556, \"#d8576b\"], [0.6666666666666666, \"#ed7953\"], [0.7777777777777778, \"#fb9f3a\"], [0.8888888888888888, \"#fdca26\"], [1.0, \"#f0f921\"]], \"type\": \"heatmap\"}], \"heatmapgl\": [{\"colorbar\": {\"outlinewidth\": 0, \"ticks\": \"\"}, \"colorscale\": [[0.0, \"#0d0887\"], [0.1111111111111111, \"#46039f\"], [0.2222222222222222, \"#7201a8\"], [0.3333333333333333, \"#9c179e\"], [0.4444444444444444, \"#bd3786\"], [0.5555555555555556, \"#d8576b\"], [0.6666666666666666, \"#ed7953\"], [0.7777777777777778, \"#fb9f3a\"], [0.8888888888888888, \"#fdca26\"], [1.0, \"#f0f921\"]], \"type\": \"heatmapgl\"}], \"histogram\": [{\"marker\": {\"colorbar\": {\"outlinewidth\": 0, \"ticks\": \"\"}}, \"type\": \"histogram\"}], \"histogram2d\": [{\"colorbar\": {\"outlinewidth\": 0, \"ticks\": \"\"}, \"colorscale\": [[0.0, \"#0d0887\"], [0.1111111111111111, \"#46039f\"], [0.2222222222222222, \"#7201a8\"], [0.3333333333333333, \"#9c179e\"], [0.4444444444444444, \"#bd3786\"], [0.5555555555555556, \"#d8576b\"], [0.6666666666666666, \"#ed7953\"], [0.7777777777777778, \"#fb9f3a\"], [0.8888888888888888, \"#fdca26\"], [1.0, \"#f0f921\"]], \"type\": \"histogram2d\"}], \"histogram2dcontour\": [{\"colorbar\": {\"outlinewidth\": 0, \"ticks\": \"\"}, \"colorscale\": [[0.0, \"#0d0887\"], [0.1111111111111111, \"#46039f\"], [0.2222222222222222, \"#7201a8\"], [0.3333333333333333, \"#9c179e\"], [0.4444444444444444, \"#bd3786\"], [0.5555555555555556, \"#d8576b\"], [0.6666666666666666, \"#ed7953\"], [0.7777777777777778, \"#fb9f3a\"], [0.8888888888888888, \"#fdca26\"], [1.0, \"#f0f921\"]], \"type\": \"histogram2dcontour\"}], \"mesh3d\": [{\"colorbar\": {\"outlinewidth\": 0, \"ticks\": \"\"}, \"type\": \"mesh3d\"}], \"parcoords\": [{\"line\": {\"colorbar\": {\"outlinewidth\": 0, \"ticks\": \"\"}}, \"type\": \"parcoords\"}], \"pie\": [{\"automargin\": true, \"type\": \"pie\"}], \"scatter\": [{\"marker\": {\"colorbar\": {\"outlinewidth\": 0, \"ticks\": \"\"}}, \"type\": \"scatter\"}], \"scatter3d\": [{\"line\": {\"colorbar\": {\"outlinewidth\": 0, \"ticks\": \"\"}}, \"marker\": {\"colorbar\": {\"outlinewidth\": 0, \"ticks\": \"\"}}, \"type\": \"scatter3d\"}], \"scattercarpet\": [{\"marker\": {\"colorbar\": {\"outlinewidth\": 0, \"ticks\": \"\"}}, \"type\": \"scattercarpet\"}], \"scattergeo\": [{\"marker\": {\"colorbar\": {\"outlinewidth\": 0, \"ticks\": \"\"}}, \"type\": \"scattergeo\"}], \"scattergl\": [{\"marker\": {\"colorbar\": {\"outlinewidth\": 0, \"ticks\": \"\"}}, \"type\": \"scattergl\"}], \"scattermapbox\": [{\"marker\": {\"colorbar\": {\"outlinewidth\": 0, \"ticks\": \"\"}}, \"type\": \"scattermapbox\"}], \"scatterpolar\": [{\"marker\": {\"colorbar\": {\"outlinewidth\": 0, \"ticks\": \"\"}}, \"type\": \"scatterpolar\"}], \"scatterpolargl\": [{\"marker\": {\"colorbar\": {\"outlinewidth\": 0, \"ticks\": \"\"}}, \"type\": \"scatterpolargl\"}], \"scatterternary\": [{\"marker\": {\"colorbar\": {\"outlinewidth\": 0, \"ticks\": \"\"}}, \"type\": \"scatterternary\"}], \"surface\": [{\"colorbar\": {\"outlinewidth\": 0, \"ticks\": \"\"}, \"colorscale\": [[0.0, \"#0d0887\"], [0.1111111111111111, \"#46039f\"], [0.2222222222222222, \"#7201a8\"], [0.3333333333333333, \"#9c179e\"], [0.4444444444444444, \"#bd3786\"], [0.5555555555555556, \"#d8576b\"], [0.6666666666666666, \"#ed7953\"], [0.7777777777777778, \"#fb9f3a\"], [0.8888888888888888, \"#fdca26\"], [1.0, \"#f0f921\"]], \"type\": \"surface\"}], \"table\": [{\"cells\": {\"fill\": {\"color\": \"#EBF0F8\"}, \"line\": {\"color\": \"white\"}}, \"header\": {\"fill\": {\"color\": \"#C8D4E3\"}, \"line\": {\"color\": \"white\"}}, \"type\": \"table\"}]}, \"layout\": {\"annotationdefaults\": {\"arrowcolor\": \"#2a3f5f\", \"arrowhead\": 0, \"arrowwidth\": 1}, \"coloraxis\": {\"colorbar\": {\"outlinewidth\": 0, \"ticks\": \"\"}}, \"colorscale\": {\"diverging\": [[0, \"#8e0152\"], [0.1, \"#c51b7d\"], [0.2, \"#de77ae\"], [0.3, \"#f1b6da\"], [0.4, \"#fde0ef\"], [0.5, \"#f7f7f7\"], [0.6, \"#e6f5d0\"], [0.7, \"#b8e186\"], [0.8, \"#7fbc41\"], [0.9, \"#4d9221\"], [1, \"#276419\"]], \"sequential\": [[0.0, \"#0d0887\"], [0.1111111111111111, \"#46039f\"], [0.2222222222222222, \"#7201a8\"], [0.3333333333333333, \"#9c179e\"], [0.4444444444444444, \"#bd3786\"], [0.5555555555555556, \"#d8576b\"], [0.6666666666666666, \"#ed7953\"], [0.7777777777777778, \"#fb9f3a\"], [0.8888888888888888, \"#fdca26\"], [1.0, \"#f0f921\"]], \"sequentialminus\": [[0.0, \"#0d0887\"], [0.1111111111111111, \"#46039f\"], [0.2222222222222222, \"#7201a8\"], [0.3333333333333333, \"#9c179e\"], [0.4444444444444444, \"#bd3786\"], [0.5555555555555556, \"#d8576b\"], [0.6666666666666666, \"#ed7953\"], [0.7777777777777778, \"#fb9f3a\"], [0.8888888888888888, \"#fdca26\"], [1.0, \"#f0f921\"]]}, \"colorway\": [\"#636efa\", \"#EF553B\", \"#00cc96\", \"#ab63fa\", \"#FFA15A\", \"#19d3f3\", \"#FF6692\", \"#B6E880\", \"#FF97FF\", \"#FECB52\"], \"font\": {\"color\": \"#2a3f5f\"}, \"geo\": {\"bgcolor\": \"white\", \"lakecolor\": \"white\", \"landcolor\": \"#E5ECF6\", \"showlakes\": true, \"showland\": true, \"subunitcolor\": \"white\"}, \"hoverlabel\": {\"align\": \"left\"}, \"hovermode\": \"closest\", \"mapbox\": {\"style\": \"light\"}, \"paper_bgcolor\": \"white\", \"plot_bgcolor\": \"#E5ECF6\", \"polar\": {\"angularaxis\": {\"gridcolor\": \"white\", \"linecolor\": \"white\", \"ticks\": \"\"}, \"bgcolor\": \"#E5ECF6\", \"radialaxis\": {\"gridcolor\": \"white\", \"linecolor\": \"white\", \"ticks\": \"\"}}, \"scene\": {\"xaxis\": {\"backgroundcolor\": \"#E5ECF6\", \"gridcolor\": \"white\", \"gridwidth\": 2, \"linecolor\": \"white\", \"showbackground\": true, \"ticks\": \"\", \"zerolinecolor\": \"white\"}, \"yaxis\": {\"backgroundcolor\": \"#E5ECF6\", \"gridcolor\": \"white\", \"gridwidth\": 2, \"linecolor\": \"white\", \"showbackground\": true, \"ticks\": \"\", \"zerolinecolor\": \"white\"}, \"zaxis\": {\"backgroundcolor\": \"#E5ECF6\", \"gridcolor\": \"white\", \"gridwidth\": 2, \"linecolor\": \"white\", \"showbackground\": true, \"ticks\": \"\", \"zerolinecolor\": \"white\"}}, \"shapedefaults\": {\"line\": {\"color\": \"#2a3f5f\"}}, \"ternary\": {\"aaxis\": {\"gridcolor\": \"white\", \"linecolor\": \"white\", \"ticks\": \"\"}, \"baxis\": {\"gridcolor\": \"white\", \"linecolor\": \"white\", \"ticks\": \"\"}, \"bgcolor\": \"#E5ECF6\", \"caxis\": {\"gridcolor\": \"white\", \"linecolor\": \"white\", \"ticks\": \"\"}}, \"title\": {\"x\": 0.05}, \"xaxis\": {\"automargin\": true, \"gridcolor\": \"white\", \"linecolor\": \"white\", \"ticks\": \"\", \"title\": {\"standoff\": 15}, \"zerolinecolor\": \"white\", \"zerolinewidth\": 2}, \"yaxis\": {\"automargin\": true, \"gridcolor\": \"white\", \"linecolor\": \"white\", \"ticks\": \"\", \"title\": {\"standoff\": 15}, \"zerolinecolor\": \"white\", \"zerolinewidth\": 2}}}},\n",
       "                        {\"responsive\": true}\n",
       "                    ).then(function(){\n",
       "                            \n",
       "var gd = document.getElementById('791a52cf-3bd8-4c56-a5a8-8221be2c3c79');\n",
       "var x = new MutationObserver(function (mutations, observer) {{\n",
       "        var display = window.getComputedStyle(gd).display;\n",
       "        if (!display || display === 'none') {{\n",
       "            console.log([gd, 'removed!']);\n",
       "            Plotly.purge(gd);\n",
       "            observer.disconnect();\n",
       "        }}\n",
       "}});\n",
       "\n",
       "// Listen for the removal of the full notebook cells\n",
       "var notebookContainer = gd.closest('#notebook-container');\n",
       "if (notebookContainer) {{\n",
       "    x.observe(notebookContainer, {childList: true});\n",
       "}}\n",
       "\n",
       "// Listen for the clearing of the current output cell\n",
       "var outputEl = gd.closest('.output');\n",
       "if (outputEl) {{\n",
       "    x.observe(outputEl, {childList: true});\n",
       "}}\n",
       "\n",
       "                        })\n",
       "                };\n",
       "                });\n",
       "            </script>\n",
       "        </div>"
      ]
     },
     "metadata": {},
     "output_type": "display_data"
    }
   ],
   "source": [
    "import plotly.graph_objs as go\n",
    "fig = go.Figure([go.Bar(name=\"Total confirmed Cases\",\n",
    "                        x=df2['State'][0:15],\n",
    "                        y=df2['Total_confirmed_cases'],\n",
    "                        marker_color='indianred'),\n",
    "                 go.Bar(name=\"Cured/Discharged\",\n",
    "                        x=df2['State'][0:15], \n",
    "                        y=df2[\"Cured_Discharged_Migrated\"],\n",
    "                       marker_color='lightsalmon'),\n",
    "                 go.Bar(name=\"Deaths\",\n",
    "                        x=df2['State'][0:15], \n",
    "                        y=df2[\"Deaths\"],\n",
    "                       marker_color='red')\n",
    "                ])\n",
    "\n",
    "fig.update_layout(barmode='group')\n",
    "#fig.show()"
   ]
  },
  {
   "cell_type": "markdown",
   "metadata": {},
   "source": [
    "# In Dash, Showing visualizations also for Pie CHarts based on the Confirmed cases as well as deaths in different states"
   ]
  },
  {
   "cell_type": "code",
   "execution_count": 114,
   "metadata": {},
   "outputs": [],
   "source": [
    "import pandas as pd\n",
    "import dash\n",
    "import dash_core_components as dcc\n",
    "import dash_html_components as html\n",
    "import dash_bootstrap_components as dbc\n",
    "import plotly.graph_objs as go\n",
    "from dash.dependencies import Input, Output\n",
    "import plotly.express as px\n",
    "import dash_bootstrap_components as dbc\n",
    "\n",
    "# external_stylesheets = ['https://codepen.io/chriddyp/pen/bWLwgP.css']\n",
    "\n",
    "# app = dash.Dash(__name__, external_stylesheets=external_stylesheets)\n",
    "# df= pd.read_csv(r\"C:\\Users\\admin\\Desktop\\Covid_data.csv\")\n",
    "\n",
    "def generate_table(dataframe, max_rows=30):\n",
    "    return html.Table(className=\"responsive-table\",\n",
    "                      children=[\n",
    "        html.Thead(\n",
    "            html.Tr([html.Th(col) for col in dataframe.columns])\n",
    "        ),\n",
    "        html.Tbody([\n",
    "            html.Tr([\n",
    "                html.Td(dataframe.iloc[i][col]) for col in dataframe.columns\n",
    "            ]) for i in range(min(len(dataframe), max_rows))\n",
    "        ])\n",
    "    \n",
    "    ])\n",
    "\n",
    "\n",
    "external_stylesheets = ['https://codepen.io/chriddyp/pen/bWLwgP.css']\n",
    "\n",
    "app = dash.Dash(__name__, external_stylesheets=external_stylesheets)\n",
    "\n",
    "card_content1 = [\n",
    "    dbc.CardHeader(\"Card header\"),\n",
    "    dbc.CardBody(\n",
    "        [\n",
    "            html.H5(\"Total Cases\", className=\"card-title\"),\n",
    "            \n",
    "                df2[\"Total_confirmed_cases\"].sum()\n",
    "\n",
    "        ]\n",
    "    ),\n",
    "]\n",
    "\n",
    "card_content2 = [\n",
    "    dbc.CardHeader(\"Card header\"),\n",
    "    dbc.CardBody(\n",
    "        [\n",
    "            html.H5(\"Total Recovered\", className=\"card-title\"),\n",
    "            \n",
    "                df2[\"Cured_Discharged_Migrated\"].sum()\n",
    "\n",
    "        ]\n",
    "    ),\n",
    "]\n",
    "\n",
    "\n",
    "card_content3 = [\n",
    "    dbc.CardHeader(\"Card header\"),\n",
    "    dbc.CardBody(\n",
    "        [\n",
    "            html.H5(\"Total Deaths\", className=\"card-title\"),\n",
    "            \n",
    "                df2[\"Deaths\"].sum()\n",
    "\n",
    "        ]\n",
    "    ),\n",
    "]\n",
    "\n",
    "\n",
    "\n",
    "\n",
    "app.layout = html.Div([\n",
    "    \n",
    "    \n",
    "    \n",
    "    html.H1(children='Statewise Distribution of Covid-19 in India',\n",
    "           style={\n",
    "               'textAlign':'center',\n",
    "               'color':'darkgreen'\n",
    "           }),\n",
    "    html.Div([\n",
    "    dbc.Row(\n",
    "    [\n",
    "        dbc.Col(dbc.Card(card_content1, color=\"blue\", outline=True)),\n",
    "        dbc.Col(dbc.Card(card_content2, color=\"secondary\", outline=True)),\n",
    "        dbc.Col(dbc.Card(card_content3, color=\"info\", outline=True)),\n",
    "    ],className=\"mb-4\", style={\n",
    "               'textAlign':'center',\n",
    "               'color':'grey'\n",
    "           }),\n",
    "    ]),\n",
    "    \n",
    "    html.Div([\n",
    "    dcc.Graph(figure=fig)\n",
    "    \n",
    "    ],style={\"border\":\"2px black solid\"}),\n",
    "    \n",
    "    html.Div([\n",
    "    html.Div([\n",
    "        dcc.Graph(id='g1',\n",
    "                 figure={\n",
    "                     'data': [\n",
    "                         go.Pie(values=df2['Total_confirmed_cases'][0:11],\n",
    "                               labels=df2['State'][0:11])\n",
    "                     ],\n",
    "                     'layout': go.Layout(title=\"Total Cases\",autosize=True)\n",
    "                 }),\n",
    "    ],className=\"six columns\"),\n",
    "        \n",
    "        html.Div([\n",
    "        \n",
    "         dcc.Graph(id='g2',\n",
    "                 figure={\n",
    "                     'data': [\n",
    "                         go.Pie(values=df2[\"Deaths\"][0:11],\n",
    "                               labels=df2['State'][0:11])\n",
    "                     ],\n",
    "                     'layout': go.Layout(title=\"Deaths\",autosize=True)\n",
    "                 }),\n",
    "        ],className=\"six columns\"),\n",
    "    ],className=\"row\"),\n",
    "    \n",
    "    html.Div([\n",
    "        dcc.Graph(id='Recovered Bar Plot',\n",
    "                 figure={\n",
    "                     'data': [\n",
    "                         go.Bar(x=df2['State'][0:30],\n",
    "                               y=df2[\"Active_cases\"][0:30],\n",
    "                               marker_color='indianred')\n",
    "                     ],\n",
    "                     'layout': go.Layout(title=\"Active Cases in the States\",autosize=True)\n",
    "                 })\n",
    "        \n",
    "    ]),\n",
    "   \n",
    "#      html.Div(\n",
    "#          generate_table(df2))\n",
    "],style={\n",
    "    'backgroundColor':'#c3cfc2'\n",
    "})\n",
    "\n",
    "app.css.append_css({\n",
    "       'external_url': 'https://codepen.io/chriddyp/pen/bWLwgP.css'\n",
    "   })\n",
    "    \n",
    "        \n",
    "\n"
   ]
  },
  {
   "cell_type": "code",
   "execution_count": 115,
   "metadata": {},
   "outputs": [
    {
     "name": "stdout",
     "output_type": "stream",
     "text": [
      " * Serving Flask app \"__main__\" (lazy loading)\n",
      " * Environment: production\n",
      "   WARNING: Do not use the development server in a production environment.\n",
      "   Use a production WSGI server instead.\n",
      " * Debug mode: off\n"
     ]
    },
    {
     "name": "stderr",
     "output_type": "stream",
     "text": [
      " * Running on http://127.0.0.1:8050/ (Press CTRL+C to quit)\n",
      "127.0.0.1 - - [11/May/2020 15:11:58] \"GET / HTTP/1.1\" 200 -\n",
      "127.0.0.1 - - [11/May/2020 15:11:58] \"GET /_dash-dependencies HTTP/1.1\" 200 -\n",
      "127.0.0.1 - - [11/May/2020 15:11:58] \"GET /_dash-layout HTTP/1.1\" 200 -\n"
     ]
    }
   ],
   "source": [
    "if __name__ == '__main__':\n",
    "    app.run_server()"
   ]
  },
  {
   "cell_type": "code",
   "execution_count": null,
   "metadata": {},
   "outputs": [],
   "source": [
    "import plotly.graph_objects as go\n",
    "import plotly.express as px\n",
    "\n",
    "\n",
    "fig = px.pie(df2, values='Total_confirmed_cases', names='State')\n",
    "fig.update_traces(textposition='inside')\n",
    "#fig.update_layout(uniformtext_minsize=12, uniformtext_mode='hide')\n",
    "fig.show()"
   ]
  },
  {
   "cell_type": "markdown",
   "metadata": {},
   "source": [
    "# Also made cards for the three features to displat total. "
   ]
  },
  {
   "cell_type": "code",
   "execution_count": null,
   "metadata": {},
   "outputs": [],
   "source": []
  },
  {
   "cell_type": "code",
   "execution_count": null,
   "metadata": {},
   "outputs": [],
   "source": []
  },
  {
   "cell_type": "code",
   "execution_count": null,
   "metadata": {},
   "outputs": [],
   "source": []
  }
 ],
 "metadata": {
  "kernelspec": {
   "display_name": "Python 3",
   "language": "python",
   "name": "python3"
  },
  "language_info": {
   "codemirror_mode": {
    "name": "ipython",
    "version": 3
   },
   "file_extension": ".py",
   "mimetype": "text/x-python",
   "name": "python",
   "nbconvert_exporter": "python",
   "pygments_lexer": "ipython3",
   "version": "3.7.3"
  }
 },
 "nbformat": 4,
 "nbformat_minor": 2
}
